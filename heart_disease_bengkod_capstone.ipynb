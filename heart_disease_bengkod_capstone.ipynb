{
 "cells": [
  {
   "cell_type": "markdown",
   "metadata": {},
   "source": [
    "# Heart Disease\n"
   ]
  },
  {
   "cell_type": "markdown",
   "metadata": {},
   "source": [
    "### Daftar Isi\n",
    "\n",
    "- [1) Mengumpulkan Data](#h1)\n",
    "- [2) Menelaah Data](#h2)\n",
    "- [3) Memvalidasi Data](#h3)\n",
    "- [4) Menetukan Object Data](#h4)\n",
    "- [5) Membersihkan Data](#h5)\n",
    "  - [5.1) NULL Value](#h5_1)\n",
    "  - [5.2) Duplicate Value](#h5_2)\n",
    "  - [5.3) Heatmap Korelasi antar Fitur](#h5_3)\n",
    "- [6) Mengkonstruksi Data](#h6)\n",
    "  - [6.1) Oversampling dengan SMOTE](#h6_1)\n",
    "  - [6.2) Normalisasi Fitur dengan MinMax Scaler](#h6_2)\n",
    "- [7) Membangun Model](#h7)\n",
    "  - [7.1) KNN](#h7_1)\n",
    "  - [7.2) Random Forest](#h7_2)\n",
    "  - [7.3) Decision Tree](#h7_3)\n",
    "- [8) Mengevaluasi Hasil Pemodelan](#h8)\n",
    "- [9) Deployment](#h9)\n",
    "- [10) Kesimpulan](#h10)\n"
   ]
  },
  {
   "cell_type": "markdown",
   "metadata": {},
   "source": [
    "## 1) Mengumpulkan Data <a class=\"anchor\" id=\"h1\"></a>\n"
   ]
  },
  {
   "cell_type": "code",
   "execution_count": 56,
   "metadata": {},
   "outputs": [
    {
     "data": {
      "text/plain": [
       "['1254 0 40 1 1 0 0',\n",
       " '-9 2 140 0 289 -9 -9 -9',\n",
       " '0 -9 -9 0 12 16 84 0',\n",
       " '0 0 0 0 150 18 -9 7',\n",
       " '172 86 200 110 140 86 0 0',\n",
       " '0 -9 26 20 -9 -9 -9 -9',\n",
       " '-9 -9 -9 -9 -9 -9 -9 12',\n",
       " '20 84 0 -9 -9 -9 -9 -9',\n",
       " '-9 -9 -9 -9 -9 1 1 1',\n",
       " '1 1 -9. -9. name']"
      ]
     },
     "execution_count": 56,
     "metadata": {},
     "output_type": "execute_result"
    }
   ],
   "source": [
    "dir = 'hungarian.data'\n",
    "with open(dir, encoding='Latin-1') as f:\n",
    "    lines = [line.rstrip() for line in f]\n",
    "\n",
    "lines[0:10]"
   ]
  },
  {
   "cell_type": "code",
   "execution_count": 57,
   "metadata": {},
   "outputs": [],
   "source": [
    "import itertools\n",
    "import pandas as pd\n",
    "import numpy as np\n",
    "import seaborn as sns\n",
    "import matplotlib.pyplot as plt"
   ]
  },
  {
   "cell_type": "markdown",
   "metadata": {},
   "source": [
    "## 2) Menelaah Data <a class=\"anchor\" id=\"h2\"></a>\n"
   ]
  },
  {
   "cell_type": "code",
   "execution_count": 58,
   "metadata": {},
   "outputs": [
    {
     "data": {
      "text/html": [
       "<div>\n",
       "<style scoped>\n",
       "    .dataframe tbody tr th:only-of-type {\n",
       "        vertical-align: middle;\n",
       "    }\n",
       "\n",
       "    .dataframe tbody tr th {\n",
       "        vertical-align: top;\n",
       "    }\n",
       "\n",
       "    .dataframe thead th {\n",
       "        text-align: right;\n",
       "    }\n",
       "</style>\n",
       "<table border=\"1\" class=\"dataframe\">\n",
       "  <thead>\n",
       "    <tr style=\"text-align: right;\">\n",
       "      <th></th>\n",
       "      <th>0</th>\n",
       "      <th>1</th>\n",
       "      <th>2</th>\n",
       "      <th>3</th>\n",
       "      <th>4</th>\n",
       "      <th>5</th>\n",
       "      <th>6</th>\n",
       "      <th>7</th>\n",
       "      <th>8</th>\n",
       "      <th>9</th>\n",
       "      <th>...</th>\n",
       "      <th>66</th>\n",
       "      <th>67</th>\n",
       "      <th>68</th>\n",
       "      <th>69</th>\n",
       "      <th>70</th>\n",
       "      <th>71</th>\n",
       "      <th>72</th>\n",
       "      <th>73</th>\n",
       "      <th>74</th>\n",
       "      <th>75</th>\n",
       "    </tr>\n",
       "  </thead>\n",
       "  <tbody>\n",
       "    <tr>\n",
       "      <th>0</th>\n",
       "      <td>1254</td>\n",
       "      <td>0</td>\n",
       "      <td>40</td>\n",
       "      <td>1</td>\n",
       "      <td>1</td>\n",
       "      <td>0</td>\n",
       "      <td>0</td>\n",
       "      <td>-9</td>\n",
       "      <td>2</td>\n",
       "      <td>140</td>\n",
       "      <td>...</td>\n",
       "      <td>-9</td>\n",
       "      <td>-9</td>\n",
       "      <td>1</td>\n",
       "      <td>1</td>\n",
       "      <td>1</td>\n",
       "      <td>1</td>\n",
       "      <td>1</td>\n",
       "      <td>-9.</td>\n",
       "      <td>-9.</td>\n",
       "      <td>name</td>\n",
       "    </tr>\n",
       "    <tr>\n",
       "      <th>1</th>\n",
       "      <td>1255</td>\n",
       "      <td>0</td>\n",
       "      <td>49</td>\n",
       "      <td>0</td>\n",
       "      <td>1</td>\n",
       "      <td>0</td>\n",
       "      <td>0</td>\n",
       "      <td>-9</td>\n",
       "      <td>3</td>\n",
       "      <td>160</td>\n",
       "      <td>...</td>\n",
       "      <td>-9</td>\n",
       "      <td>-9</td>\n",
       "      <td>1</td>\n",
       "      <td>1</td>\n",
       "      <td>1</td>\n",
       "      <td>1</td>\n",
       "      <td>1</td>\n",
       "      <td>-9.</td>\n",
       "      <td>-9.</td>\n",
       "      <td>name</td>\n",
       "    </tr>\n",
       "    <tr>\n",
       "      <th>2</th>\n",
       "      <td>1256</td>\n",
       "      <td>0</td>\n",
       "      <td>37</td>\n",
       "      <td>1</td>\n",
       "      <td>1</td>\n",
       "      <td>0</td>\n",
       "      <td>0</td>\n",
       "      <td>-9</td>\n",
       "      <td>2</td>\n",
       "      <td>130</td>\n",
       "      <td>...</td>\n",
       "      <td>-9</td>\n",
       "      <td>-9</td>\n",
       "      <td>1</td>\n",
       "      <td>1</td>\n",
       "      <td>1</td>\n",
       "      <td>1</td>\n",
       "      <td>1</td>\n",
       "      <td>-9.</td>\n",
       "      <td>-9.</td>\n",
       "      <td>name</td>\n",
       "    </tr>\n",
       "    <tr>\n",
       "      <th>3</th>\n",
       "      <td>1257</td>\n",
       "      <td>0</td>\n",
       "      <td>48</td>\n",
       "      <td>0</td>\n",
       "      <td>1</td>\n",
       "      <td>1</td>\n",
       "      <td>1</td>\n",
       "      <td>-9</td>\n",
       "      <td>4</td>\n",
       "      <td>138</td>\n",
       "      <td>...</td>\n",
       "      <td>2</td>\n",
       "      <td>-9</td>\n",
       "      <td>1</td>\n",
       "      <td>1</td>\n",
       "      <td>1</td>\n",
       "      <td>1</td>\n",
       "      <td>1</td>\n",
       "      <td>-9.</td>\n",
       "      <td>-9.</td>\n",
       "      <td>name</td>\n",
       "    </tr>\n",
       "    <tr>\n",
       "      <th>4</th>\n",
       "      <td>1258</td>\n",
       "      <td>0</td>\n",
       "      <td>54</td>\n",
       "      <td>1</td>\n",
       "      <td>1</td>\n",
       "      <td>0</td>\n",
       "      <td>1</td>\n",
       "      <td>-9</td>\n",
       "      <td>3</td>\n",
       "      <td>150</td>\n",
       "      <td>...</td>\n",
       "      <td>1</td>\n",
       "      <td>-9</td>\n",
       "      <td>1</td>\n",
       "      <td>1</td>\n",
       "      <td>1</td>\n",
       "      <td>1</td>\n",
       "      <td>1</td>\n",
       "      <td>-9.</td>\n",
       "      <td>-9.</td>\n",
       "      <td>name</td>\n",
       "    </tr>\n",
       "  </tbody>\n",
       "</table>\n",
       "<p>5 rows × 76 columns</p>\n",
       "</div>"
      ],
      "text/plain": [
       "     0  1   2  3  4  5  6   7  8    9   ...  66  67 68 69 70 71 72   73   74  \\\n",
       "0  1254  0  40  1  1  0  0  -9  2  140  ...  -9  -9  1  1  1  1  1  -9.  -9.   \n",
       "1  1255  0  49  0  1  0  0  -9  3  160  ...  -9  -9  1  1  1  1  1  -9.  -9.   \n",
       "2  1256  0  37  1  1  0  0  -9  2  130  ...  -9  -9  1  1  1  1  1  -9.  -9.   \n",
       "3  1257  0  48  0  1  1  1  -9  4  138  ...   2  -9  1  1  1  1  1  -9.  -9.   \n",
       "4  1258  0  54  1  1  0  1  -9  3  150  ...   1  -9  1  1  1  1  1  -9.  -9.   \n",
       "\n",
       "     75  \n",
       "0  name  \n",
       "1  name  \n",
       "2  name  \n",
       "3  name  \n",
       "4  name  \n",
       "\n",
       "[5 rows x 76 columns]"
      ]
     },
     "execution_count": 58,
     "metadata": {},
     "output_type": "execute_result"
    }
   ],
   "source": [
    "data = itertools.takewhile(\n",
    "    lambda x: len(x) == 76,\n",
    "    (' '.join(lines[i:i+10]).split() for i in range(0, len(lines), 10)\n",
    "))\n",
    "\n",
    "df = pd.DataFrame.from_records(data)\n",
    "\n",
    "df.head()"
   ]
  },
  {
   "cell_type": "markdown",
   "metadata": {},
   "source": [
    "## 3) Memvalidasi Data <a class=\"anchor\" id=\"h3\"></a>\n"
   ]
  },
  {
   "cell_type": "code",
   "execution_count": 59,
   "metadata": {},
   "outputs": [],
   "source": [
    "df = df.iloc[:, :-1]\n",
    "df = df.drop(df.columns[0], axis=1)"
   ]
  },
  {
   "cell_type": "code",
   "execution_count": 60,
   "metadata": {},
   "outputs": [
    {
     "name": "stdout",
     "output_type": "stream",
     "text": [
      "<class 'pandas.core.frame.DataFrame'>\n",
      "RangeIndex: 294 entries, 0 to 293\n",
      "Data columns (total 74 columns):\n",
      " #   Column  Non-Null Count  Dtype  \n",
      "---  ------  --------------  -----  \n",
      " 0   1       294 non-null    float64\n",
      " 1   2       294 non-null    float64\n",
      " 2   3       294 non-null    float64\n",
      " 3   4       294 non-null    float64\n",
      " 4   5       294 non-null    float64\n",
      " 5   6       294 non-null    float64\n",
      " 6   7       294 non-null    float64\n",
      " 7   8       294 non-null    float64\n",
      " 8   9       294 non-null    float64\n",
      " 9   10      294 non-null    float64\n",
      " 10  11      294 non-null    float64\n",
      " 11  12      294 non-null    float64\n",
      " 12  13      294 non-null    float64\n",
      " 13  14      294 non-null    float64\n",
      " 14  15      294 non-null    float64\n",
      " 15  16      294 non-null    float64\n",
      " 16  17      294 non-null    float64\n",
      " 17  18      294 non-null    float64\n",
      " 18  19      294 non-null    float64\n",
      " 19  20      294 non-null    float64\n",
      " 20  21      294 non-null    float64\n",
      " 21  22      294 non-null    float64\n",
      " 22  23      294 non-null    float64\n",
      " 23  24      294 non-null    float64\n",
      " 24  25      294 non-null    float64\n",
      " 25  26      294 non-null    float64\n",
      " 26  27      294 non-null    float64\n",
      " 27  28      294 non-null    float64\n",
      " 28  29      294 non-null    float64\n",
      " 29  30      294 non-null    float64\n",
      " 30  31      294 non-null    float64\n",
      " 31  32      294 non-null    float64\n",
      " 32  33      294 non-null    float64\n",
      " 33  34      294 non-null    float64\n",
      " 34  35      294 non-null    float64\n",
      " 35  36      294 non-null    float64\n",
      " 36  37      294 non-null    float64\n",
      " 37  38      294 non-null    float64\n",
      " 38  39      294 non-null    float64\n",
      " 39  40      294 non-null    float64\n",
      " 40  41      294 non-null    float64\n",
      " 41  42      294 non-null    float64\n",
      " 42  43      294 non-null    float64\n",
      " 43  44      294 non-null    float64\n",
      " 44  45      294 non-null    float64\n",
      " 45  46      294 non-null    float64\n",
      " 46  47      294 non-null    float64\n",
      " 47  48      294 non-null    float64\n",
      " 48  49      294 non-null    float64\n",
      " 49  50      294 non-null    float64\n",
      " 50  51      294 non-null    float64\n",
      " 51  52      294 non-null    float64\n",
      " 52  53      294 non-null    float64\n",
      " 53  54      294 non-null    float64\n",
      " 54  55      294 non-null    float64\n",
      " 55  56      294 non-null    float64\n",
      " 56  57      294 non-null    float64\n",
      " 57  58      294 non-null    float64\n",
      " 58  59      294 non-null    float64\n",
      " 59  60      294 non-null    float64\n",
      " 60  61      294 non-null    float64\n",
      " 61  62      294 non-null    float64\n",
      " 62  63      294 non-null    float64\n",
      " 63  64      294 non-null    float64\n",
      " 64  65      294 non-null    float64\n",
      " 65  66      294 non-null    float64\n",
      " 66  67      294 non-null    float64\n",
      " 67  68      294 non-null    float64\n",
      " 68  69      294 non-null    float64\n",
      " 69  70      294 non-null    float64\n",
      " 70  71      294 non-null    float64\n",
      " 71  72      294 non-null    float64\n",
      " 72  73      294 non-null    float64\n",
      " 73  74      294 non-null    float64\n",
      "dtypes: float64(74)\n",
      "memory usage: 170.1 KB\n"
     ]
    }
   ],
   "source": [
    "df = df.astype(float)\n",
    "df.info()  "
   ]
  },
  {
   "cell_type": "code",
   "execution_count": 61,
   "metadata": {},
   "outputs": [
    {
     "data": {
      "text/html": [
       "<div>\n",
       "<style scoped>\n",
       "    .dataframe tbody tr th:only-of-type {\n",
       "        vertical-align: middle;\n",
       "    }\n",
       "\n",
       "    .dataframe tbody tr th {\n",
       "        vertical-align: top;\n",
       "    }\n",
       "\n",
       "    .dataframe thead th {\n",
       "        text-align: right;\n",
       "    }\n",
       "</style>\n",
       "<table border=\"1\" class=\"dataframe\">\n",
       "  <thead>\n",
       "    <tr style=\"text-align: right;\">\n",
       "      <th></th>\n",
       "      <th>1</th>\n",
       "      <th>2</th>\n",
       "      <th>3</th>\n",
       "      <th>4</th>\n",
       "      <th>5</th>\n",
       "      <th>6</th>\n",
       "      <th>7</th>\n",
       "      <th>8</th>\n",
       "      <th>9</th>\n",
       "      <th>10</th>\n",
       "      <th>...</th>\n",
       "      <th>65</th>\n",
       "      <th>66</th>\n",
       "      <th>67</th>\n",
       "      <th>68</th>\n",
       "      <th>69</th>\n",
       "      <th>70</th>\n",
       "      <th>71</th>\n",
       "      <th>72</th>\n",
       "      <th>73</th>\n",
       "      <th>74</th>\n",
       "    </tr>\n",
       "  </thead>\n",
       "  <tbody>\n",
       "    <tr>\n",
       "      <th>0</th>\n",
       "      <td>0.0</td>\n",
       "      <td>40.0</td>\n",
       "      <td>1.0</td>\n",
       "      <td>1.0</td>\n",
       "      <td>0.0</td>\n",
       "      <td>0.0</td>\n",
       "      <td>NaN</td>\n",
       "      <td>2.0</td>\n",
       "      <td>140.0</td>\n",
       "      <td>0.0</td>\n",
       "      <td>...</td>\n",
       "      <td>NaN</td>\n",
       "      <td>NaN</td>\n",
       "      <td>NaN</td>\n",
       "      <td>1.0</td>\n",
       "      <td>1.0</td>\n",
       "      <td>1.0</td>\n",
       "      <td>1.0</td>\n",
       "      <td>1.0</td>\n",
       "      <td>NaN</td>\n",
       "      <td>NaN</td>\n",
       "    </tr>\n",
       "    <tr>\n",
       "      <th>1</th>\n",
       "      <td>0.0</td>\n",
       "      <td>49.0</td>\n",
       "      <td>0.0</td>\n",
       "      <td>1.0</td>\n",
       "      <td>0.0</td>\n",
       "      <td>0.0</td>\n",
       "      <td>NaN</td>\n",
       "      <td>3.0</td>\n",
       "      <td>160.0</td>\n",
       "      <td>1.0</td>\n",
       "      <td>...</td>\n",
       "      <td>NaN</td>\n",
       "      <td>NaN</td>\n",
       "      <td>NaN</td>\n",
       "      <td>1.0</td>\n",
       "      <td>1.0</td>\n",
       "      <td>1.0</td>\n",
       "      <td>1.0</td>\n",
       "      <td>1.0</td>\n",
       "      <td>NaN</td>\n",
       "      <td>NaN</td>\n",
       "    </tr>\n",
       "    <tr>\n",
       "      <th>2</th>\n",
       "      <td>0.0</td>\n",
       "      <td>37.0</td>\n",
       "      <td>1.0</td>\n",
       "      <td>1.0</td>\n",
       "      <td>0.0</td>\n",
       "      <td>0.0</td>\n",
       "      <td>NaN</td>\n",
       "      <td>2.0</td>\n",
       "      <td>130.0</td>\n",
       "      <td>0.0</td>\n",
       "      <td>...</td>\n",
       "      <td>NaN</td>\n",
       "      <td>NaN</td>\n",
       "      <td>NaN</td>\n",
       "      <td>1.0</td>\n",
       "      <td>1.0</td>\n",
       "      <td>1.0</td>\n",
       "      <td>1.0</td>\n",
       "      <td>1.0</td>\n",
       "      <td>NaN</td>\n",
       "      <td>NaN</td>\n",
       "    </tr>\n",
       "    <tr>\n",
       "      <th>3</th>\n",
       "      <td>0.0</td>\n",
       "      <td>48.0</td>\n",
       "      <td>0.0</td>\n",
       "      <td>1.0</td>\n",
       "      <td>1.0</td>\n",
       "      <td>1.0</td>\n",
       "      <td>NaN</td>\n",
       "      <td>4.0</td>\n",
       "      <td>138.0</td>\n",
       "      <td>0.0</td>\n",
       "      <td>...</td>\n",
       "      <td>NaN</td>\n",
       "      <td>2.0</td>\n",
       "      <td>NaN</td>\n",
       "      <td>1.0</td>\n",
       "      <td>1.0</td>\n",
       "      <td>1.0</td>\n",
       "      <td>1.0</td>\n",
       "      <td>1.0</td>\n",
       "      <td>NaN</td>\n",
       "      <td>NaN</td>\n",
       "    </tr>\n",
       "    <tr>\n",
       "      <th>4</th>\n",
       "      <td>0.0</td>\n",
       "      <td>54.0</td>\n",
       "      <td>1.0</td>\n",
       "      <td>1.0</td>\n",
       "      <td>0.0</td>\n",
       "      <td>1.0</td>\n",
       "      <td>NaN</td>\n",
       "      <td>3.0</td>\n",
       "      <td>150.0</td>\n",
       "      <td>0.0</td>\n",
       "      <td>...</td>\n",
       "      <td>NaN</td>\n",
       "      <td>1.0</td>\n",
       "      <td>NaN</td>\n",
       "      <td>1.0</td>\n",
       "      <td>1.0</td>\n",
       "      <td>1.0</td>\n",
       "      <td>1.0</td>\n",
       "      <td>1.0</td>\n",
       "      <td>NaN</td>\n",
       "      <td>NaN</td>\n",
       "    </tr>\n",
       "  </tbody>\n",
       "</table>\n",
       "<p>5 rows × 74 columns</p>\n",
       "</div>"
      ],
      "text/plain": [
       "    1     2    3    4    5    6   7    8      9    10  ...  65   66  67   68  \\\n",
       "0  0.0  40.0  1.0  1.0  0.0  0.0 NaN  2.0  140.0  0.0  ... NaN  NaN NaN  1.0   \n",
       "1  0.0  49.0  0.0  1.0  0.0  0.0 NaN  3.0  160.0  1.0  ... NaN  NaN NaN  1.0   \n",
       "2  0.0  37.0  1.0  1.0  0.0  0.0 NaN  2.0  130.0  0.0  ... NaN  NaN NaN  1.0   \n",
       "3  0.0  48.0  0.0  1.0  1.0  1.0 NaN  4.0  138.0  0.0  ... NaN  2.0 NaN  1.0   \n",
       "4  0.0  54.0  1.0  1.0  0.0  1.0 NaN  3.0  150.0  0.0  ... NaN  1.0 NaN  1.0   \n",
       "\n",
       "    69   70   71   72  73  74  \n",
       "0  1.0  1.0  1.0  1.0 NaN NaN  \n",
       "1  1.0  1.0  1.0  1.0 NaN NaN  \n",
       "2  1.0  1.0  1.0  1.0 NaN NaN  \n",
       "3  1.0  1.0  1.0  1.0 NaN NaN  \n",
       "4  1.0  1.0  1.0  1.0 NaN NaN  \n",
       "\n",
       "[5 rows x 74 columns]"
      ]
     },
     "execution_count": 61,
     "metadata": {},
     "output_type": "execute_result"
    }
   ],
   "source": [
    "df.replace(-9.0, np.nan, inplace=True)\n",
    "\n",
    "df.head()"
   ]
  },
  {
   "cell_type": "code",
   "execution_count": 62,
   "metadata": {},
   "outputs": [],
   "source": [
    "# (1) Kolom 3 (age)\n",
    "# (2) Kolom 4 (sex)\n",
    "# (3) Kolom 9 (cp)\n",
    "# (4) Kolom 10 (trestbps)\n",
    "# (5) Kolom 12 (chol)\n",
    "# (6) Kolom 16 (fbs)\n",
    "# (7) Kolom 19 (restecg)\n",
    "# (8) Kolom 32 (thalach)\n",
    "# (9) Kolom 38 (exang)\n",
    "# (10) Kolom 40 (oldpeak)\n",
    "# (11) Kolom 41 (slope)\n",
    "# (12) Kolom 44 (ca)\n",
    "# (13) Kolom 51 (thal)\n",
    "# (14) Kolom 58 (num/target)"
   ]
  },
  {
   "cell_type": "markdown",
   "metadata": {},
   "source": [
    "## 4) Menentukan Objek Data <a class=\"anchor\" id=\"h4\"></a>\n"
   ]
  },
  {
   "cell_type": "code",
   "execution_count": 63,
   "metadata": {},
   "outputs": [
    {
     "name": "stdout",
     "output_type": "stream",
     "text": [
      "       2    3    8      9      11   15   18     31   37   39   40  43   50  \\\n",
      "0    40.0  1.0  2.0  140.0  289.0  0.0  0.0  172.0  0.0  0.0  NaN NaN  NaN   \n",
      "1    49.0  0.0  3.0  160.0  180.0  0.0  0.0  156.0  0.0  1.0  2.0 NaN  NaN   \n",
      "2    37.0  1.0  2.0  130.0  283.0  0.0  1.0   98.0  0.0  0.0  NaN NaN  NaN   \n",
      "3    48.0  0.0  4.0  138.0  214.0  0.0  0.0  108.0  1.0  1.5  2.0 NaN  NaN   \n",
      "4    54.0  1.0  3.0  150.0    NaN  0.0  0.0  122.0  0.0  0.0  NaN NaN  NaN   \n",
      "..    ...  ...  ...    ...    ...  ...  ...    ...  ...  ...  ...  ..  ...   \n",
      "289  48.0  0.0  2.0    NaN  308.0  0.0  1.0    NaN  NaN  2.0  1.0 NaN  NaN   \n",
      "290  36.0  1.0  2.0  120.0  166.0  0.0  0.0  180.0  0.0  0.0  NaN NaN  NaN   \n",
      "291  48.0  1.0  3.0  110.0  211.0  0.0  0.0  138.0  0.0  0.0  NaN NaN  6.0   \n",
      "292  47.0  0.0  2.0  140.0  257.0  0.0  0.0  135.0  0.0  1.0  1.0 NaN  NaN   \n",
      "293  53.0  1.0  4.0  130.0  182.0  0.0  0.0  148.0  0.0  0.0  NaN NaN  NaN   \n",
      "\n",
      "      57  \n",
      "0    0.0  \n",
      "1    1.0  \n",
      "2    0.0  \n",
      "3    3.0  \n",
      "4    0.0  \n",
      "..   ...  \n",
      "289  0.0  \n",
      "290  0.0  \n",
      "291  0.0  \n",
      "292  0.0  \n",
      "293  0.0  \n",
      "\n",
      "[294 rows x 14 columns]\n"
     ]
    }
   ],
   "source": [
    "# Daftar kolom yang ingin Anda gunakan sebagai fitur\n",
    "# df_subset = df[['A', 'B']].copy()\n",
    "df_select = df.iloc[:, [1,2,7,8,10,14,17,30,36,38,39,42,49,56]]  \n",
    "# df_select = df[[1,2,7,8,10,14,17,30,36,38,39,42,49,56]].copy()\n",
    "\n",
    "# Menampilkan DataFrame dengan kolom yang dipilih\n",
    "print(df_select)"
   ]
  },
  {
   "cell_type": "code",
   "execution_count": 64,
   "metadata": {
    "scrolled": true
   },
   "outputs": [
    {
     "name": "stderr",
     "output_type": "stream",
     "text": [
      "C:\\Users\\d\\AppData\\Local\\Temp\\ipykernel_5192\\3719889940.py:18: SettingWithCopyWarning: \n",
      "A value is trying to be set on a copy of a slice from a DataFrame\n",
      "\n",
      "See the caveats in the documentation: https://pandas.pydata.org/pandas-docs/stable/user_guide/indexing.html#returning-a-view-versus-a-copy\n",
      "  df_select.rename(columns=features_dict, inplace=True)\n"
     ]
    },
    {
     "data": {
      "text/html": [
       "<div>\n",
       "<style scoped>\n",
       "    .dataframe tbody tr th:only-of-type {\n",
       "        vertical-align: middle;\n",
       "    }\n",
       "\n",
       "    .dataframe tbody tr th {\n",
       "        vertical-align: top;\n",
       "    }\n",
       "\n",
       "    .dataframe thead th {\n",
       "        text-align: right;\n",
       "    }\n",
       "</style>\n",
       "<table border=\"1\" class=\"dataframe\">\n",
       "  <thead>\n",
       "    <tr style=\"text-align: right;\">\n",
       "      <th></th>\n",
       "      <th>age</th>\n",
       "      <th>sex</th>\n",
       "      <th>cp</th>\n",
       "      <th>trestbps</th>\n",
       "      <th>chol</th>\n",
       "      <th>fbs</th>\n",
       "      <th>restecg</th>\n",
       "      <th>thalach</th>\n",
       "      <th>exang</th>\n",
       "      <th>oldpeak</th>\n",
       "      <th>slope</th>\n",
       "      <th>ca</th>\n",
       "      <th>thal</th>\n",
       "      <th>target</th>\n",
       "    </tr>\n",
       "  </thead>\n",
       "  <tbody>\n",
       "    <tr>\n",
       "      <th>0</th>\n",
       "      <td>40.0</td>\n",
       "      <td>1.0</td>\n",
       "      <td>2.0</td>\n",
       "      <td>140.0</td>\n",
       "      <td>289.0</td>\n",
       "      <td>0.0</td>\n",
       "      <td>0.0</td>\n",
       "      <td>172.0</td>\n",
       "      <td>0.0</td>\n",
       "      <td>0.0</td>\n",
       "      <td>NaN</td>\n",
       "      <td>NaN</td>\n",
       "      <td>NaN</td>\n",
       "      <td>0.0</td>\n",
       "    </tr>\n",
       "    <tr>\n",
       "      <th>1</th>\n",
       "      <td>49.0</td>\n",
       "      <td>0.0</td>\n",
       "      <td>3.0</td>\n",
       "      <td>160.0</td>\n",
       "      <td>180.0</td>\n",
       "      <td>0.0</td>\n",
       "      <td>0.0</td>\n",
       "      <td>156.0</td>\n",
       "      <td>0.0</td>\n",
       "      <td>1.0</td>\n",
       "      <td>2.0</td>\n",
       "      <td>NaN</td>\n",
       "      <td>NaN</td>\n",
       "      <td>1.0</td>\n",
       "    </tr>\n",
       "    <tr>\n",
       "      <th>2</th>\n",
       "      <td>37.0</td>\n",
       "      <td>1.0</td>\n",
       "      <td>2.0</td>\n",
       "      <td>130.0</td>\n",
       "      <td>283.0</td>\n",
       "      <td>0.0</td>\n",
       "      <td>1.0</td>\n",
       "      <td>98.0</td>\n",
       "      <td>0.0</td>\n",
       "      <td>0.0</td>\n",
       "      <td>NaN</td>\n",
       "      <td>NaN</td>\n",
       "      <td>NaN</td>\n",
       "      <td>0.0</td>\n",
       "    </tr>\n",
       "    <tr>\n",
       "      <th>3</th>\n",
       "      <td>48.0</td>\n",
       "      <td>0.0</td>\n",
       "      <td>4.0</td>\n",
       "      <td>138.0</td>\n",
       "      <td>214.0</td>\n",
       "      <td>0.0</td>\n",
       "      <td>0.0</td>\n",
       "      <td>108.0</td>\n",
       "      <td>1.0</td>\n",
       "      <td>1.5</td>\n",
       "      <td>2.0</td>\n",
       "      <td>NaN</td>\n",
       "      <td>NaN</td>\n",
       "      <td>3.0</td>\n",
       "    </tr>\n",
       "    <tr>\n",
       "      <th>4</th>\n",
       "      <td>54.0</td>\n",
       "      <td>1.0</td>\n",
       "      <td>3.0</td>\n",
       "      <td>150.0</td>\n",
       "      <td>NaN</td>\n",
       "      <td>0.0</td>\n",
       "      <td>0.0</td>\n",
       "      <td>122.0</td>\n",
       "      <td>0.0</td>\n",
       "      <td>0.0</td>\n",
       "      <td>NaN</td>\n",
       "      <td>NaN</td>\n",
       "      <td>NaN</td>\n",
       "      <td>0.0</td>\n",
       "    </tr>\n",
       "  </tbody>\n",
       "</table>\n",
       "</div>"
      ],
      "text/plain": [
       "    age  sex   cp  trestbps   chol  fbs  restecg  thalach  exang  oldpeak  \\\n",
       "0  40.0  1.0  2.0     140.0  289.0  0.0      0.0    172.0    0.0      0.0   \n",
       "1  49.0  0.0  3.0     160.0  180.0  0.0      0.0    156.0    0.0      1.0   \n",
       "2  37.0  1.0  2.0     130.0  283.0  0.0      1.0     98.0    0.0      0.0   \n",
       "3  48.0  0.0  4.0     138.0  214.0  0.0      0.0    108.0    1.0      1.5   \n",
       "4  54.0  1.0  3.0     150.0    NaN  0.0      0.0    122.0    0.0      0.0   \n",
       "\n",
       "   slope  ca  thal  target  \n",
       "0    NaN NaN   NaN     0.0  \n",
       "1    2.0 NaN   NaN     1.0  \n",
       "2    NaN NaN   NaN     0.0  \n",
       "3    2.0 NaN   NaN     3.0  \n",
       "4    NaN NaN   NaN     0.0  "
      ]
     },
     "execution_count": 64,
     "metadata": {},
     "output_type": "execute_result"
    }
   ],
   "source": [
    "features_dict = {\n",
    "    2:\"age\",\n",
    "    3:\"sex\",\n",
    "    8:\"cp\",\n",
    "    9:\"trestbps\",\n",
    "    11:\"chol\",\n",
    "    15:\"fbs\",\n",
    "    18:\"restecg\",\n",
    "    31:\"thalach\",\n",
    "    37:\"exang\",\n",
    "    39:\"oldpeak\",\n",
    "    40:\"slope\",\n",
    "    43:\"ca\",\n",
    "    50:\"thal\",\n",
    "    57:\"target\"\n",
    "}\n",
    "\n",
    "df_select.rename(columns=features_dict, inplace=True)\n",
    "df_select.head()"
   ]
  },
  {
   "cell_type": "markdown",
   "metadata": {},
   "source": [
    "## 5) Membersihkan Data <a class=\"anchor\" id=\"h5\"></a>\n"
   ]
  },
  {
   "cell_type": "markdown",
   "metadata": {},
   "source": [
    "#### 5.1) NULL Value <a id=\"h5_1\"></a>\n"
   ]
  },
  {
   "cell_type": "code",
   "execution_count": 65,
   "metadata": {},
   "outputs": [
    {
     "data": {
      "text/plain": [
       "age           0\n",
       "sex           0\n",
       "cp            0\n",
       "trestbps      1\n",
       "chol         23\n",
       "fbs           8\n",
       "restecg       1\n",
       "thalach       1\n",
       "exang         1\n",
       "oldpeak       0\n",
       "slope       190\n",
       "ca          290\n",
       "thal        266\n",
       "target        0\n",
       "dtype: int64"
      ]
     },
     "execution_count": 65,
     "metadata": {},
     "output_type": "execute_result"
    }
   ],
   "source": [
    "df_select.isnull().sum()"
   ]
  },
  {
   "cell_type": "code",
   "execution_count": 66,
   "metadata": {},
   "outputs": [
    {
     "name": "stderr",
     "output_type": "stream",
     "text": [
      "C:\\Users\\d\\AppData\\Local\\Temp\\ipykernel_5192\\2054314881.py:2: SettingWithCopyWarning: \n",
      "A value is trying to be set on a copy of a slice from a DataFrame\n",
      "\n",
      "See the caveats in the documentation: https://pandas.pydata.org/pandas-docs/stable/user_guide/indexing.html#returning-a-view-versus-a-copy\n",
      "  df_select.drop(drop_columns, axis=1, inplace=True)\n"
     ]
    },
    {
     "data": {
      "text/plain": [
       "age          0\n",
       "sex          0\n",
       "cp           0\n",
       "trestbps     1\n",
       "chol        23\n",
       "fbs          8\n",
       "restecg      1\n",
       "thalach      1\n",
       "exang        1\n",
       "oldpeak      0\n",
       "target       0\n",
       "dtype: int64"
      ]
     },
     "execution_count": 66,
     "metadata": {},
     "output_type": "execute_result"
    }
   ],
   "source": [
    "drop_columns = ['slope', 'ca', 'thal']\n",
    "df_select.drop(drop_columns, axis=1, inplace=True)\n",
    "df_select.isnull().sum()"
   ]
  },
  {
   "cell_type": "code",
   "execution_count": 67,
   "metadata": {},
   "outputs": [],
   "source": [
    "dfClean = df_select.copy()"
   ]
  },
  {
   "cell_type": "code",
   "execution_count": 68,
   "metadata": {},
   "outputs": [
    {
     "name": "stdout",
     "output_type": "stream",
     "text": [
      "Mean trestbps : 133\n",
      "Mean chol : 251\n",
      "Mean fbs : 0\n",
      "Mean restecg : 0\n",
      "Mean thalach : 139\n",
      "Mean exang : 0\n"
     ]
    },
    {
     "data": {
      "text/plain": [
       "age         0\n",
       "sex         0\n",
       "cp          0\n",
       "trestbps    0\n",
       "chol        0\n",
       "fbs         0\n",
       "restecg     0\n",
       "thalach     0\n",
       "exang       0\n",
       "oldpeak     0\n",
       "target      0\n",
       "dtype: int64"
      ]
     },
     "execution_count": 68,
     "metadata": {},
     "output_type": "execute_result"
    }
   ],
   "source": [
    "handle_columns = ['trestbps', 'chol', 'fbs', 'restecg', 'thalach', 'exang']\n",
    "handle_null = {}\n",
    "\n",
    "for col in handle_columns:\n",
    "    if dfClean[col].isnull().sum() != 0:\n",
    "        # continue\n",
    "        handle_null[col] = df_select[col].dropna()\n",
    "        mean_value = handle_null[col].astype(float).mean()\n",
    "        mean_value_round = round(mean_value)\n",
    "        print(f\"Mean {col} : {mean_value_round}\")\n",
    "        fill_value = {col: mean_value_round}\n",
    "        dfClean.fillna(value=fill_value, inplace=True)\n",
    "\n",
    "dfClean.isnull().sum()\n"
   ]
  },
  {
   "cell_type": "code",
   "execution_count": 69,
   "metadata": {},
   "outputs": [
    {
     "data": {
      "text/html": [
       "<div>\n",
       "<style scoped>\n",
       "    .dataframe tbody tr th:only-of-type {\n",
       "        vertical-align: middle;\n",
       "    }\n",
       "\n",
       "    .dataframe tbody tr th {\n",
       "        vertical-align: top;\n",
       "    }\n",
       "\n",
       "    .dataframe thead th {\n",
       "        text-align: right;\n",
       "    }\n",
       "</style>\n",
       "<table border=\"1\" class=\"dataframe\">\n",
       "  <thead>\n",
       "    <tr style=\"text-align: right;\">\n",
       "      <th></th>\n",
       "      <th>age</th>\n",
       "      <th>sex</th>\n",
       "      <th>cp</th>\n",
       "      <th>trestbps</th>\n",
       "      <th>chol</th>\n",
       "      <th>fbs</th>\n",
       "      <th>restecg</th>\n",
       "      <th>thalach</th>\n",
       "      <th>exang</th>\n",
       "      <th>oldpeak</th>\n",
       "      <th>target</th>\n",
       "    </tr>\n",
       "  </thead>\n",
       "  <tbody>\n",
       "    <tr>\n",
       "      <th>0</th>\n",
       "      <td>40.0</td>\n",
       "      <td>1.0</td>\n",
       "      <td>2.0</td>\n",
       "      <td>140.0</td>\n",
       "      <td>289.0</td>\n",
       "      <td>0.0</td>\n",
       "      <td>0.0</td>\n",
       "      <td>172.0</td>\n",
       "      <td>0.0</td>\n",
       "      <td>0.0</td>\n",
       "      <td>0.0</td>\n",
       "    </tr>\n",
       "    <tr>\n",
       "      <th>1</th>\n",
       "      <td>49.0</td>\n",
       "      <td>0.0</td>\n",
       "      <td>3.0</td>\n",
       "      <td>160.0</td>\n",
       "      <td>180.0</td>\n",
       "      <td>0.0</td>\n",
       "      <td>0.0</td>\n",
       "      <td>156.0</td>\n",
       "      <td>0.0</td>\n",
       "      <td>1.0</td>\n",
       "      <td>1.0</td>\n",
       "    </tr>\n",
       "    <tr>\n",
       "      <th>2</th>\n",
       "      <td>37.0</td>\n",
       "      <td>1.0</td>\n",
       "      <td>2.0</td>\n",
       "      <td>130.0</td>\n",
       "      <td>283.0</td>\n",
       "      <td>0.0</td>\n",
       "      <td>1.0</td>\n",
       "      <td>98.0</td>\n",
       "      <td>0.0</td>\n",
       "      <td>0.0</td>\n",
       "      <td>0.0</td>\n",
       "    </tr>\n",
       "    <tr>\n",
       "      <th>3</th>\n",
       "      <td>48.0</td>\n",
       "      <td>0.0</td>\n",
       "      <td>4.0</td>\n",
       "      <td>138.0</td>\n",
       "      <td>214.0</td>\n",
       "      <td>0.0</td>\n",
       "      <td>0.0</td>\n",
       "      <td>108.0</td>\n",
       "      <td>1.0</td>\n",
       "      <td>1.5</td>\n",
       "      <td>3.0</td>\n",
       "    </tr>\n",
       "    <tr>\n",
       "      <th>4</th>\n",
       "      <td>54.0</td>\n",
       "      <td>1.0</td>\n",
       "      <td>3.0</td>\n",
       "      <td>150.0</td>\n",
       "      <td>251.0</td>\n",
       "      <td>0.0</td>\n",
       "      <td>0.0</td>\n",
       "      <td>122.0</td>\n",
       "      <td>0.0</td>\n",
       "      <td>0.0</td>\n",
       "      <td>0.0</td>\n",
       "    </tr>\n",
       "  </tbody>\n",
       "</table>\n",
       "</div>"
      ],
      "text/plain": [
       "    age  sex   cp  trestbps   chol  fbs  restecg  thalach  exang  oldpeak  \\\n",
       "0  40.0  1.0  2.0     140.0  289.0  0.0      0.0    172.0    0.0      0.0   \n",
       "1  49.0  0.0  3.0     160.0  180.0  0.0      0.0    156.0    0.0      1.0   \n",
       "2  37.0  1.0  2.0     130.0  283.0  0.0      1.0     98.0    0.0      0.0   \n",
       "3  48.0  0.0  4.0     138.0  214.0  0.0      0.0    108.0    1.0      1.5   \n",
       "4  54.0  1.0  3.0     150.0  251.0  0.0      0.0    122.0    0.0      0.0   \n",
       "\n",
       "   target  \n",
       "0     0.0  \n",
       "1     1.0  \n",
       "2     0.0  \n",
       "3     3.0  \n",
       "4     0.0  "
      ]
     },
     "execution_count": 69,
     "metadata": {},
     "output_type": "execute_result"
    }
   ],
   "source": [
    "dfClean.head()"
   ]
  },
  {
   "cell_type": "markdown",
   "metadata": {},
   "source": [
    "#### 5.2) Duplicate Value <a id=\"h5_2\"></a>\n"
   ]
  },
  {
   "cell_type": "code",
   "execution_count": 70,
   "metadata": {},
   "outputs": [
    {
     "name": "stdout",
     "output_type": "stream",
     "text": [
      "1\n"
     ]
    },
    {
     "data": {
      "text/html": [
       "<div>\n",
       "<style scoped>\n",
       "    .dataframe tbody tr th:only-of-type {\n",
       "        vertical-align: middle;\n",
       "    }\n",
       "\n",
       "    .dataframe tbody tr th {\n",
       "        vertical-align: top;\n",
       "    }\n",
       "\n",
       "    .dataframe thead th {\n",
       "        text-align: right;\n",
       "    }\n",
       "</style>\n",
       "<table border=\"1\" class=\"dataframe\">\n",
       "  <thead>\n",
       "    <tr style=\"text-align: right;\">\n",
       "      <th></th>\n",
       "      <th>age</th>\n",
       "      <th>sex</th>\n",
       "      <th>cp</th>\n",
       "      <th>trestbps</th>\n",
       "      <th>chol</th>\n",
       "      <th>fbs</th>\n",
       "      <th>restecg</th>\n",
       "      <th>thalach</th>\n",
       "      <th>exang</th>\n",
       "      <th>oldpeak</th>\n",
       "      <th>target</th>\n",
       "    </tr>\n",
       "  </thead>\n",
       "  <tbody>\n",
       "    <tr>\n",
       "      <th>90</th>\n",
       "      <td>49.0</td>\n",
       "      <td>0.0</td>\n",
       "      <td>2.0</td>\n",
       "      <td>110.0</td>\n",
       "      <td>251.0</td>\n",
       "      <td>0.0</td>\n",
       "      <td>0.0</td>\n",
       "      <td>160.0</td>\n",
       "      <td>0.0</td>\n",
       "      <td>0.0</td>\n",
       "      <td>0.0</td>\n",
       "    </tr>\n",
       "    <tr>\n",
       "      <th>163</th>\n",
       "      <td>49.0</td>\n",
       "      <td>0.0</td>\n",
       "      <td>2.0</td>\n",
       "      <td>110.0</td>\n",
       "      <td>251.0</td>\n",
       "      <td>0.0</td>\n",
       "      <td>0.0</td>\n",
       "      <td>160.0</td>\n",
       "      <td>0.0</td>\n",
       "      <td>0.0</td>\n",
       "      <td>0.0</td>\n",
       "    </tr>\n",
       "  </tbody>\n",
       "</table>\n",
       "</div>"
      ],
      "text/plain": [
       "      age  sex   cp  trestbps   chol  fbs  restecg  thalach  exang  oldpeak  \\\n",
       "90   49.0  0.0  2.0     110.0  251.0  0.0      0.0    160.0    0.0      0.0   \n",
       "163  49.0  0.0  2.0     110.0  251.0  0.0      0.0    160.0    0.0      0.0   \n",
       "\n",
       "     target  \n",
       "90      0.0  \n",
       "163     0.0  "
      ]
     },
     "execution_count": 70,
     "metadata": {},
     "output_type": "execute_result"
    }
   ],
   "source": [
    "print(dfClean.duplicated().sum())\n",
    "dfClean[dfClean.duplicated(keep=False)]"
   ]
  },
  {
   "cell_type": "code",
   "execution_count": 71,
   "metadata": {},
   "outputs": [
    {
     "name": "stdout",
     "output_type": "stream",
     "text": [
      "0\n"
     ]
    },
    {
     "data": {
      "text/html": [
       "<div>\n",
       "<style scoped>\n",
       "    .dataframe tbody tr th:only-of-type {\n",
       "        vertical-align: middle;\n",
       "    }\n",
       "\n",
       "    .dataframe tbody tr th {\n",
       "        vertical-align: top;\n",
       "    }\n",
       "\n",
       "    .dataframe thead th {\n",
       "        text-align: right;\n",
       "    }\n",
       "</style>\n",
       "<table border=\"1\" class=\"dataframe\">\n",
       "  <thead>\n",
       "    <tr style=\"text-align: right;\">\n",
       "      <th></th>\n",
       "      <th>age</th>\n",
       "      <th>sex</th>\n",
       "      <th>cp</th>\n",
       "      <th>trestbps</th>\n",
       "      <th>chol</th>\n",
       "      <th>fbs</th>\n",
       "      <th>restecg</th>\n",
       "      <th>thalach</th>\n",
       "      <th>exang</th>\n",
       "      <th>oldpeak</th>\n",
       "      <th>target</th>\n",
       "    </tr>\n",
       "  </thead>\n",
       "  <tbody>\n",
       "  </tbody>\n",
       "</table>\n",
       "</div>"
      ],
      "text/plain": [
       "Empty DataFrame\n",
       "Columns: [age, sex, cp, trestbps, chol, fbs, restecg, thalach, exang, oldpeak, target]\n",
       "Index: []"
      ]
     },
     "execution_count": 71,
     "metadata": {},
     "output_type": "execute_result"
    }
   ],
   "source": [
    "if dfClean.duplicated().sum() != 0:\n",
    "    dfClean = dfClean.drop_duplicates()\n",
    "    \n",
    "print(dfClean.duplicated().sum())\n",
    "dfClean[dfClean.duplicated(keep=False)]"
   ]
  },
  {
   "cell_type": "markdown",
   "metadata": {},
   "source": [
    "#### 5.3) Heatmap Korelasi antar Fitur <a id=\"h5_3\"></a>\n"
   ]
  },
  {
   "cell_type": "code",
   "execution_count": 72,
   "metadata": {},
   "outputs": [
    {
     "data": {
      "image/png": "[encoded data removed]",
      "text/plain": [
       "<Figure size 1200x1000 with 2 Axes>"
      ]
     },
     "metadata": {},
     "output_type": "display_data"
    }
   ],
   "source": [
    "correlation = dfClean.corr()\n",
    "plt.figure(figsize=(12, 10))\n",
    "plt.title(\"Heatmap Korelasi antar Fitur\", y=1.02, fontdict={'size': 18})\n",
    "sns.heatmap(\n",
    "  correlation.round(2),\n",
    "  annot = True,\n",
    "  vmax = 1,\n",
    "  square = True,\n",
    "  cmap = 'RdYlGn_r'\n",
    ")\n",
    "\n",
    "plt.show()"
   ]
  },
  {
   "cell_type": "markdown",
   "metadata": {},
   "source": [
    "## 6) Menkonstruksi Data <a class=\"anchor\" id=\"h6\"></a>\n"
   ]
  },
  {
   "cell_type": "markdown",
   "metadata": {},
   "source": [
    "#### 6.1) Oversampling dengan SMOTE <a id=\"h6_1\"></a>\n"
   ]
  },
  {
   "cell_type": "code",
   "execution_count": 73,
   "metadata": {},
   "outputs": [
    {
     "data": {
      "image/png": "[encoded data removed]",
      "text/plain": [
       "<Figure size 800x400 with 1 Axes>"
      ]
     },
     "metadata": {},
     "output_type": "display_data"
    }
   ],
   "source": [
    "X = dfClean.drop('target', axis=1)\n",
    "y = dfClean['target']\n",
    "\n",
    "y.value_counts().plot(kind='bar', figsize=(8,4), color=['green', 'blue', 'red', 'yellow'])\n",
    "plt.title('target before over sampling with SMOTE')\n",
    "plt.xticks(rotation=0);"
   ]
  },
  {
   "cell_type": "code",
   "execution_count": 74,
   "metadata": {},
   "outputs": [],
   "source": [
    "from imblearn.over_sampling import SMOTE\n",
    "from sklearn.preprocessing import MinMaxScaler"
   ]
  },
  {
   "cell_type": "code",
   "execution_count": 75,
   "metadata": {},
   "outputs": [],
   "source": [
    "smote = SMOTE(random_state=42)\n",
    "X_res, y_res = smote.fit_resample(X, y)"
   ]
  },
  {
   "cell_type": "code",
   "execution_count": 76,
   "metadata": {},
   "outputs": [
    {
     "name": "stdout",
     "output_type": "stream",
     "text": [
      "target_before_smote\n",
      "target\n",
      "0.0       187\n",
      "1.0        37\n",
      "3.0        28\n",
      "2.0        26\n",
      "4.0        15\n",
      "Name: count, dtype: int64\n",
      "Jumlah Data Sebelum SMOTE : 293\n",
      "\n",
      "target_after_smote\n",
      "target\n",
      "0.0       187\n",
      "1.0       187\n",
      "2.0       187\n",
      "3.0       187\n",
      "4.0       187\n",
      "Name: count, dtype: int64\n",
      "Jumlah Data Sesudah SMOTE : 935\n"
     ]
    }
   ],
   "source": [
    "target_before_smote = pd.DataFrame(data=y)\n",
    "print(f\"target_before_smote\")\n",
    "print(target_before_smote.value_counts())\n",
    "print(f'Jumlah Data Sebelum SMOTE : {len(target_before_smote)}')\n",
    "\n",
    "target_after_smote = pd.DataFrame(data=y_res)\n",
    "print(f\"\\ntarget_after_smote\")\n",
    "print(target_after_smote.value_counts())\n",
    "print(f'Jumlah Data Sesudah SMOTE : {len(target_after_smote)}')"
   ]
  },
  {
   "cell_type": "code",
   "execution_count": 77,
   "metadata": {},
   "outputs": [
    {
     "data": {
      "image/png": "[encoded data removed]",
      "text/plain": [
       "<Figure size 1200x600 with 2 Axes>"
      ]
     },
     "metadata": {},
     "output_type": "display_data"
    }
   ],
   "source": [
    "plt.subplot(1,2,1)\n",
    "target_before_smote.value_counts().plot(kind='bar', figsize=(12,6), color=['green', 'blue', 'red', 'yellow'])\n",
    "plt.title('target before over sampling with SMOTE')\n",
    "plt.xticks(rotation=0);\n",
    "\n",
    "plt.subplot(1,2,2)\n",
    "target_after_smote.value_counts().plot(kind='bar', figsize=(12,6), color=['green', 'blue', 'red', 'yellow'])\n",
    "plt.title('target after over sampling with SMOTE')\n",
    "plt.xticks(rotation=0);\n",
    "\n",
    "plt.tight_layout()\n",
    "plt.show()"
   ]
  },
  {
   "cell_type": "markdown",
   "metadata": {},
   "source": [
    "#### 6.2) Normalisasi Fitur dengan MinMax Scaler <a id=\"h6_2\"></a>\n"
   ]
  },
  {
   "cell_type": "code",
   "execution_count": 78,
   "metadata": {},
   "outputs": [
    {
     "name": "stdout",
     "output_type": "stream",
     "text": [
      "            0         1         2         3         4    5         6  \\\n",
      "0    0.315789  1.000000  0.333333  0.444444  0.393822  0.0  0.000000   \n",
      "1    0.552632  0.000000  0.666667  0.629630  0.183398  0.0  0.000000   \n",
      "2    0.236842  1.000000  0.333333  0.351852  0.382239  0.0  0.500000   \n",
      "3    0.526316  0.000000  1.000000  0.425926  0.249035  0.0  0.000000   \n",
      "4    0.684211  1.000000  0.666667  0.537037  0.320463  0.0  0.000000   \n",
      "..        ...       ...       ...       ...       ...  ...       ...   \n",
      "930  0.440021  0.843563  0.947854  0.429960  0.393704  0.0  0.078219   \n",
      "931  0.611772  0.250243  0.750081  0.375022  0.400576  0.0  0.374879   \n",
      "932  0.525224  0.549227  0.849742  0.402706  0.397113  0.0  0.225387   \n",
      "933  0.537553  1.000000  1.000000  0.576777  0.383909  0.0  0.357298   \n",
      "934  0.875320  0.660197  0.886732  0.351852  0.379259  0.0  0.500000   \n",
      "\n",
      "            7    8         9  \n",
      "0    0.833333  0.0  0.000000  \n",
      "1    0.685185  0.0  0.200000  \n",
      "2    0.148148  0.0  0.000000  \n",
      "3    0.240741  1.0  0.300000  \n",
      "4    0.370370  0.0  0.000000  \n",
      "..        ...  ...       ...  \n",
      "930  0.440044  1.0  0.337425  \n",
      "931  0.247764  1.0  0.100097  \n",
      "932  0.344657  1.0  0.219691  \n",
      "933  0.640281  1.0  0.542919  \n",
      "934  0.258361  1.0  0.132039  \n",
      "\n",
      "[935 rows x 10 columns]\n"
     ]
    }
   ],
   "source": [
    "scaler = MinMaxScaler()\n",
    "X_smote_norm = scaler.fit_transform(X_res)\n",
    "print(pd.DataFrame(data=X_smote_norm))"
   ]
  },
  {
   "cell_type": "code",
   "execution_count": 79,
   "metadata": {},
   "outputs": [
    {
     "name": "stdout",
     "output_type": "stream",
     "text": [
      "935\n"
     ]
    },
    {
     "data": {
      "text/html": [
       "<div>\n",
       "<style scoped>\n",
       "    .dataframe tbody tr th:only-of-type {\n",
       "        vertical-align: middle;\n",
       "    }\n",
       "\n",
       "    .dataframe tbody tr th {\n",
       "        vertical-align: top;\n",
       "    }\n",
       "\n",
       "    .dataframe thead th {\n",
       "        text-align: right;\n",
       "    }\n",
       "</style>\n",
       "<table border=\"1\" class=\"dataframe\">\n",
       "  <thead>\n",
       "    <tr style=\"text-align: right;\">\n",
       "      <th></th>\n",
       "      <th>0</th>\n",
       "      <th>1</th>\n",
       "      <th>2</th>\n",
       "      <th>3</th>\n",
       "      <th>4</th>\n",
       "      <th>5</th>\n",
       "      <th>6</th>\n",
       "      <th>7</th>\n",
       "      <th>8</th>\n",
       "      <th>9</th>\n",
       "    </tr>\n",
       "  </thead>\n",
       "  <tbody>\n",
       "    <tr>\n",
       "      <th>0</th>\n",
       "      <td>0.315789</td>\n",
       "      <td>1.0</td>\n",
       "      <td>0.333333</td>\n",
       "      <td>0.444444</td>\n",
       "      <td>0.393822</td>\n",
       "      <td>0.0</td>\n",
       "      <td>0.0</td>\n",
       "      <td>0.833333</td>\n",
       "      <td>0.0</td>\n",
       "      <td>0.0</td>\n",
       "    </tr>\n",
       "    <tr>\n",
       "      <th>1</th>\n",
       "      <td>0.552632</td>\n",
       "      <td>0.0</td>\n",
       "      <td>0.666667</td>\n",
       "      <td>0.629630</td>\n",
       "      <td>0.183398</td>\n",
       "      <td>0.0</td>\n",
       "      <td>0.0</td>\n",
       "      <td>0.685185</td>\n",
       "      <td>0.0</td>\n",
       "      <td>0.2</td>\n",
       "    </tr>\n",
       "    <tr>\n",
       "      <th>2</th>\n",
       "      <td>0.236842</td>\n",
       "      <td>1.0</td>\n",
       "      <td>0.333333</td>\n",
       "      <td>0.351852</td>\n",
       "      <td>0.382239</td>\n",
       "      <td>0.0</td>\n",
       "      <td>0.5</td>\n",
       "      <td>0.148148</td>\n",
       "      <td>0.0</td>\n",
       "      <td>0.0</td>\n",
       "    </tr>\n",
       "    <tr>\n",
       "      <th>3</th>\n",
       "      <td>0.526316</td>\n",
       "      <td>0.0</td>\n",
       "      <td>1.000000</td>\n",
       "      <td>0.425926</td>\n",
       "      <td>0.249035</td>\n",
       "      <td>0.0</td>\n",
       "      <td>0.0</td>\n",
       "      <td>0.240741</td>\n",
       "      <td>1.0</td>\n",
       "      <td>0.3</td>\n",
       "    </tr>\n",
       "    <tr>\n",
       "      <th>4</th>\n",
       "      <td>0.684211</td>\n",
       "      <td>1.0</td>\n",
       "      <td>0.666667</td>\n",
       "      <td>0.537037</td>\n",
       "      <td>0.320463</td>\n",
       "      <td>0.0</td>\n",
       "      <td>0.0</td>\n",
       "      <td>0.370370</td>\n",
       "      <td>0.0</td>\n",
       "      <td>0.0</td>\n",
       "    </tr>\n",
       "  </tbody>\n",
       "</table>\n",
       "</div>"
      ],
      "text/plain": [
       "          0    1         2         3         4    5    6         7    8    9\n",
       "0  0.315789  1.0  0.333333  0.444444  0.393822  0.0  0.0  0.833333  0.0  0.0\n",
       "1  0.552632  0.0  0.666667  0.629630  0.183398  0.0  0.0  0.685185  0.0  0.2\n",
       "2  0.236842  1.0  0.333333  0.351852  0.382239  0.0  0.5  0.148148  0.0  0.0\n",
       "3  0.526316  0.0  1.000000  0.425926  0.249035  0.0  0.0  0.240741  1.0  0.3\n",
       "4  0.684211  1.0  0.666667  0.537037  0.320463  0.0  0.0  0.370370  0.0  0.0"
      ]
     },
     "execution_count": 79,
     "metadata": {},
     "output_type": "execute_result"
    }
   ],
   "source": [
    "dfClean_norm = pd.DataFrame(X_smote_norm)\n",
    "print(len(dfClean_norm))\n",
    "dfClean_norm.head()"
   ]
  },
  {
   "cell_type": "markdown",
   "metadata": {},
   "source": [
    "## 7) Membangun Model <a class=\"anchor\" id=\"h7\"></a>\n"
   ]
  },
  {
   "cell_type": "code",
   "execution_count": 80,
   "metadata": {},
   "outputs": [],
   "source": [
    "from sklearn.neighbors import KNeighborsClassifier\n",
    "from sklearn.tree import DecisionTreeClassifier\n",
    "from sklearn.ensemble import RandomForestClassifier\n",
    "from sklearn.metrics import classification_report, confusion_matrix, accuracy_score, recall_score, precision_score, f1_score"
   ]
  },
  {
   "cell_type": "code",
   "execution_count": 81,
   "metadata": {},
   "outputs": [],
   "source": [
    "def trainModel(X_train, y_train):\n",
    "    knn = KNeighborsClassifier(n_neighbors=3)\n",
    "    rf = RandomForestClassifier(n_estimators=100, random_state=42)\n",
    "    dt = DecisionTreeClassifier(random_state=42)\n",
    "    knn.fit(X_train, y_train)\n",
    "    rf.fit(X_train, y_train)\n",
    "    dt.fit(X_train, y_train)\n",
    "    return knn, rf, dt"
   ]
  },
  {
   "cell_type": "code",
   "execution_count": 82,
   "metadata": {},
   "outputs": [],
   "source": [
    "def predictModel(model, X_test):\n",
    "    pred = model.predict(X_test)\n",
    "    return pred"
   ]
  },
  {
   "cell_type": "code",
   "execution_count": 83,
   "metadata": {},
   "outputs": [],
   "source": [
    "def evaluateModel(y_test, y_pred):\n",
    "    acc = accuracy_score(y_test, y_pred)\n",
    "    rcl = recall_score(y_test, y_pred, average='weighted')\n",
    "    f1 = f1_score(y_test, y_pred, average='weighted')\n",
    "    ps = precision_score(y_test, y_pred, average='weighted')\n",
    "\n",
    "    metric_dict = {\n",
    "        'accuracy': round(acc, 3),\n",
    "        'recall': round(rcl, 3),\n",
    "        'F1 score': round(f1, 3),\n",
    "        'Precision score': round(ps, 3)\n",
    "    }\n",
    "\n",
    "    return metric_dict"
   ]
  },
  {
   "cell_type": "code",
   "execution_count": 84,
   "metadata": {},
   "outputs": [],
   "source": [
    "def reportModel(modelPred, y_test):\n",
    "    print(\"Classification Report:\")\n",
    "    print(f\"{classification_report(y_test, modelPred)}\")"
   ]
  },
  {
   "cell_type": "code",
   "execution_count": 85,
   "metadata": {},
   "outputs": [],
   "source": [
    "from sklearn.model_selection import train_test_split"
   ]
  },
  {
   "cell_type": "code",
   "execution_count": 86,
   "metadata": {},
   "outputs": [],
   "source": [
    "# SPLIT DATA TRAINING DAN TESTING DENGAN RASIO 80:20 (ORI)\n",
    "X_train_ori, X_test_ori, y_train_ori, y_test_ori = train_test_split(X, y, test_size=0.2, random_state=42)"
   ]
  },
  {
   "cell_type": "code",
   "execution_count": 87,
   "metadata": {},
   "outputs": [],
   "source": [
    "# SPLIT DATA TRAINING DAN TESTING DENGAN RASIO 80:20 (OVERSAMPLING)\n",
    "X_train, X_test, y_train, y_test = train_test_split(X_res, y_res, test_size=0.2, random_state=42, stratify=y_res)"
   ]
  },
  {
   "cell_type": "code",
   "execution_count": 88,
   "metadata": {},
   "outputs": [],
   "source": [
    "# SPLIT DATA TRAINING DAN TESTING DENGAN RASIO 80:20 (OVERSAMPLING + NORMALISASI)\n",
    "X_train_norm, X_test_norm, y_train_norm, y_test_norm = train_test_split(X_smote_norm, y_res, test_size=0.2, random_state=42, stratify=y_res)"
   ]
  },
  {
   "cell_type": "code",
   "execution_count": 89,
   "metadata": {},
   "outputs": [],
   "source": [
    "knn_ori, rf_ori, dt_ori = trainModel(X_train_ori, y_train_ori)"
   ]
  },
  {
   "cell_type": "code",
   "execution_count": 90,
   "metadata": {},
   "outputs": [],
   "source": [
    "knn, rf, dt = trainModel(X_train, y_train)"
   ]
  },
  {
   "cell_type": "code",
   "execution_count": 91,
   "metadata": {},
   "outputs": [],
   "source": [
    "knn_N, rf_N, dt_N = trainModel(X_train_norm, y_train_norm)"
   ]
  },
  {
   "cell_type": "markdown",
   "metadata": {},
   "source": [
    "#### 7.1) KNN <a id=\"h7_1\"></a>\n"
   ]
  },
  {
   "cell_type": "code",
   "execution_count": 92,
   "metadata": {},
   "outputs": [
    {
     "name": "stdout",
     "output_type": "stream",
     "text": [
      "KNN Model:\n",
      "Accuracy Score KNN: 0.593\n",
      "Classification Report:\n",
      "              precision    recall  f1-score   support\n",
      "\n",
      "         0.0       0.70      0.88      0.78        40\n",
      "         1.0       0.00      0.00      0.00         8\n",
      "         2.0       0.00      0.00      0.00         4\n",
      "         3.0       0.00      0.00      0.00         6\n",
      "         4.0       0.00      0.00      0.00         1\n",
      "\n",
      "    accuracy                           0.59        59\n",
      "   macro avg       0.14      0.17      0.16        59\n",
      "weighted avg       0.47      0.59      0.53        59\n",
      "\n",
      "Evaluate KNN : {'accuracy': 0.593, 'recall': 0.593, 'F1 score': 0.527, 'Precision score': 0.475}\n"
     ]
    }
   ],
   "source": [
    "# KNN MODELLING (ori)\n",
    "print(\"KNN Model:\")\n",
    "knn_pred_ori = predictModel(knn_ori, X_test_ori)\n",
    "metrics_knn_ori = evaluateModel(y_test_ori, knn_pred_ori)\n",
    "accuracy_knn_ori = metrics_knn_ori['accuracy']\n",
    "print(\"Accuracy Score KNN:\", accuracy_knn_ori)\n",
    "\n",
    "reportModel(knn_pred_ori, y_test_ori)\n",
    "print(f\"Evaluate KNN : {metrics_knn_ori}\")"
   ]
  },
  {
   "cell_type": "code",
   "execution_count": 93,
   "metadata": {},
   "outputs": [
    {
     "name": "stdout",
     "output_type": "stream",
     "text": [
      "KNN Model:\n",
      "Accuracy Score KNN: 0.754\n",
      "Classification Report:\n",
      "              precision    recall  f1-score   support\n",
      "\n",
      "         0.0       0.65      0.39      0.49        38\n",
      "         1.0       0.73      0.81      0.77        37\n",
      "         2.0       0.80      0.86      0.83        37\n",
      "         3.0       0.77      0.87      0.81        38\n",
      "         4.0       0.78      0.84      0.81        37\n",
      "\n",
      "    accuracy                           0.75       187\n",
      "   macro avg       0.75      0.76      0.74       187\n",
      "weighted avg       0.74      0.75      0.74       187\n",
      "\n",
      "Evaluate KNN : {'accuracy': 0.754, 'recall': 0.754, 'F1 score': 0.741, 'Precision score': 0.745}\n"
     ]
    }
   ],
   "source": [
    "# KNN MODELLING (OVERSAMPLING)\n",
    "print(\"KNN Model:\")\n",
    "knn_pred = predictModel(knn, X_test)\n",
    "metrics_knn = evaluateModel(y_test, knn_pred)\n",
    "accuracy_knn = metrics_knn['accuracy']\n",
    "print(\"Accuracy Score KNN:\", accuracy_knn)\n",
    "\n",
    "reportModel(knn_pred, y_test)\n",
    "print(f\"Evaluate KNN : {metrics_knn}\")"
   ]
  },
  {
   "cell_type": "code",
   "execution_count": 94,
   "metadata": {},
   "outputs": [
    {
     "name": "stdout",
     "output_type": "stream",
     "text": [
      "KNN Model Normalisasi:\n",
      "Accuracy Score KNN: 0.861\n",
      "Classification Report:\n",
      "              precision    recall  f1-score   support\n",
      "\n",
      "         0.0       0.88      0.76      0.82        38\n",
      "         1.0       0.78      0.84      0.81        37\n",
      "         2.0       0.87      0.92      0.89        37\n",
      "         3.0       0.92      0.87      0.89        38\n",
      "         4.0       0.87      0.92      0.89        37\n",
      "\n",
      "    accuracy                           0.86       187\n",
      "   macro avg       0.86      0.86      0.86       187\n",
      "weighted avg       0.86      0.86      0.86       187\n",
      "\n",
      "Evaluate KNN : {'accuracy': 0.861, 'recall': 0.861, 'F1 score': 0.861, 'Precision score': 0.863}\n"
     ]
    }
   ],
   "source": [
    "# KNN MODELLING (OVERSAMPLING + NORMALISASI)\n",
    "print(\"KNN Model Normalisasi:\")\n",
    "knn_pred_N = predictModel(knn_N, X_test_norm)\n",
    "metrics_knn_N = evaluateModel(y_test_norm, knn_pred_N)\n",
    "accuracy_knn_N = metrics_knn_N['accuracy']\n",
    "print(\"Accuracy Score KNN:\", accuracy_knn_N)\n",
    "\n",
    "reportModel(knn_pred_N, y_test_norm)\n",
    "print(f\"Evaluate KNN : {metrics_knn_N}\")"
   ]
  },
  {
   "cell_type": "code",
   "execution_count": 95,
   "metadata": {},
   "outputs": [
    {
     "data": {
      "image/png": "[encoded data removed]",
      "text/plain": [
       "<Figure size 800x600 with 2 Axes>"
      ]
     },
     "metadata": {},
     "output_type": "display_data"
    }
   ],
   "source": [
    "# nilai confusion matrix untuk model KNN\n",
    "cm = confusion_matrix(y_test_norm, knn_pred_N)\n",
    "\n",
    "plt.figure(figsize=(8, 6))\n",
    "sns.heatmap(cm, annot=True, fmt=\"d\", cmap=\"Blues\")\n",
    "plt.title('Confusion Matrix KNN')\n",
    "plt.xlabel('True')\n",
    "plt.ylabel('Predict')\n",
    "plt.show()"
   ]
  },
  {
   "cell_type": "markdown",
   "metadata": {},
   "source": [
    "#### 7.2) Random Forest <a id=\"h7_2\"></a>\n"
   ]
  },
  {
   "cell_type": "code",
   "execution_count": 96,
   "metadata": {},
   "outputs": [
    {
     "name": "stdout",
     "output_type": "stream",
     "text": [
      "Random Forest Model:\n",
      "Accuracy Score Random Forest: 0.678\n",
      "Classification Report:\n",
      "              precision    recall  f1-score   support\n",
      "\n",
      "         0.0       0.83      0.95      0.88        40\n",
      "         1.0       0.40      0.25      0.31         8\n",
      "         2.0       0.00      0.00      0.00         4\n",
      "         3.0       0.00      0.00      0.00         6\n",
      "         4.0       0.00      0.00      0.00         1\n",
      "\n",
      "    accuracy                           0.68        59\n",
      "   macro avg       0.25      0.24      0.24        59\n",
      "weighted avg       0.61      0.68      0.64        59\n",
      "\n",
      "Evaluate Random Forest : {'accuracy': 0.678, 'recall': 0.678, 'F1 score': 0.641, 'Precision score': 0.614}\n"
     ]
    }
   ],
   "source": [
    "# Random Forest MODELLING (ORI)\n",
    "print(\"Random Forest Model:\")\n",
    "rf_pred_ori = predictModel(rf_ori, X_test_ori)\n",
    "metrics_rf_ori = evaluateModel(y_test_ori, rf_pred_ori)\n",
    "accuracy_rf_ori = metrics_rf_ori['accuracy']\n",
    "print(\"Accuracy Score Random Forest:\", accuracy_rf_ori)\n",
    "\n",
    "reportModel(rf_pred_ori, y_test_ori)\n",
    "print(f\"Evaluate Random Forest : {metrics_rf_ori}\")"
   ]
  },
  {
   "cell_type": "code",
   "execution_count": 97,
   "metadata": {},
   "outputs": [
    {
     "name": "stdout",
     "output_type": "stream",
     "text": [
      "Random Forest Model:\n",
      "Accuracy Score Random Forest: 0.92\n",
      "Classification Report:\n",
      "              precision    recall  f1-score   support\n",
      "\n",
      "         0.0       0.94      0.89      0.92        38\n",
      "         1.0       0.85      0.92      0.88        37\n",
      "         2.0       0.89      0.89      0.89        37\n",
      "         3.0       0.95      0.97      0.96        38\n",
      "         4.0       0.97      0.92      0.94        37\n",
      "\n",
      "    accuracy                           0.92       187\n",
      "   macro avg       0.92      0.92      0.92       187\n",
      "weighted avg       0.92      0.92      0.92       187\n",
      "\n",
      "Evaluate Random Forest : {'accuracy': 0.92, 'recall': 0.92, 'F1 score': 0.92, 'Precision score': 0.922}\n"
     ]
    }
   ],
   "source": [
    "# Random Forest MODELLING (OVERSAMPLING)\n",
    "print(\"Random Forest Model:\")\n",
    "rf_pred = predictModel(rf, X_test)\n",
    "metrics_rf = evaluateModel(y_test, rf_pred)\n",
    "accuracy_rf = metrics_rf['accuracy']\n",
    "print(\"Accuracy Score Random Forest:\", accuracy_rf)\n",
    "\n",
    "reportModel(rf_pred, y_test)\n",
    "print(f\"Evaluate Random Forest : {metrics_rf}\")"
   ]
  },
  {
   "cell_type": "code",
   "execution_count": 98,
   "metadata": {},
   "outputs": [
    {
     "name": "stdout",
     "output_type": "stream",
     "text": [
      "Random Forest Model OVERSAMPLING + NORMALISASI:\n",
      "Accuracy Score Random Forest: 0.92\n",
      "Classification Report:\n",
      "              precision    recall  f1-score   support\n",
      "\n",
      "         0.0       0.94      0.89      0.92        38\n",
      "         1.0       0.85      0.92      0.88        37\n",
      "         2.0       0.89      0.89      0.89        37\n",
      "         3.0       0.95      0.97      0.96        38\n",
      "         4.0       0.97      0.92      0.94        37\n",
      "\n",
      "    accuracy                           0.92       187\n",
      "   macro avg       0.92      0.92      0.92       187\n",
      "weighted avg       0.92      0.92      0.92       187\n",
      "\n",
      "Evaluate Random Forest : {'accuracy': 0.92, 'recall': 0.92, 'F1 score': 0.92, 'Precision score': 0.922}\n"
     ]
    }
   ],
   "source": [
    "# Random Forest MODELLING (OVERSAMPLING + NORMALISASI)\n",
    "print(\"Random Forest Model OVERSAMPLING + NORMALISASI:\")\n",
    "rf_pred_N = predictModel(rf_N, X_test_norm)\n",
    "metrics_rf_N = evaluateModel(y_test_norm, rf_pred_N)\n",
    "accuracy_rf_N = metrics_rf_N['accuracy']\n",
    "print(\"Accuracy Score Random Forest:\", accuracy_rf_N)\n",
    "\n",
    "reportModel(rf_pred_N, y_test_norm)\n",
    "print(f\"Evaluate Random Forest : {metrics_rf_N}\")"
   ]
  },
  {
   "cell_type": "code",
   "execution_count": 99,
   "metadata": {},
   "outputs": [
    {
     "data": {
      "image/png": "[encoded data removed]",
      "text/plain": [
       "<Figure size 800x600 with 2 Axes>"
      ]
     },
     "metadata": {},
     "output_type": "display_data"
    }
   ],
   "source": [
    "# nilai confusion matrix untuk model Random Forest\n",
    "cm = confusion_matrix(y_test, rf_pred_N)\n",
    "\n",
    "plt.figure(figsize=(8, 6))\n",
    "sns.heatmap(cm, annot=True, fmt=\"d\", cmap=\"Blues\")\n",
    "plt.title('Confusion Matrix Random Forest')\n",
    "plt.xlabel('True')\n",
    "plt.ylabel('Predict')\n",
    "plt.show()"
   ]
  },
  {
   "cell_type": "markdown",
   "metadata": {},
   "source": [
    "#### 7.3) Decision Tree <a id=\"h7_3\"></a>\n"
   ]
  },
  {
   "cell_type": "code",
   "execution_count": 100,
   "metadata": {},
   "outputs": [
    {
     "name": "stdout",
     "output_type": "stream",
     "text": [
      "Decision Tree Model:\n",
      "Accuracy Score Decision Tree: 0.593\n",
      "Classification Report:\n",
      "              precision    recall  f1-score   support\n",
      "\n",
      "         0.0       0.79      0.82      0.80        40\n",
      "         1.0       0.17      0.12      0.14         8\n",
      "         2.0       0.00      0.00      0.00         4\n",
      "         3.0       0.25      0.17      0.20         6\n",
      "         4.0       0.00      0.00      0.00         1\n",
      "\n",
      "    accuracy                           0.59        59\n",
      "   macro avg       0.24      0.22      0.23        59\n",
      "weighted avg       0.58      0.59      0.59        59\n",
      "\n",
      "Evaluate Decision Tree : {'accuracy': 0.593, 'recall': 0.593, 'F1 score': 0.585, 'Precision score': 0.581}\n"
     ]
    }
   ],
   "source": [
    "# Decision Tree MODELLING\n",
    "print(\"Decision Tree Model:\")\n",
    "dt_pred_ori = predictModel(dt_ori, X_test_ori)\n",
    "metrics_dt_ori = evaluateModel(y_test_ori, dt_pred_ori)\n",
    "accuracy_dt_ori = metrics_dt_ori['accuracy']\n",
    "print(\"Accuracy Score Decision Tree:\", accuracy_dt_ori)\n",
    "\n",
    "reportModel(dt_pred_ori, y_test_ori)\n",
    "print(f\"Evaluate Decision Tree : {metrics_dt_ori}\")"
   ]
  },
  {
   "cell_type": "code",
   "execution_count": 101,
   "metadata": {},
   "outputs": [
    {
     "name": "stdout",
     "output_type": "stream",
     "text": [
      "Decision Tree Model:\n",
      "Accuracy Score Decision Tree: 0.77\n",
      "Classification Report:\n",
      "              precision    recall  f1-score   support\n",
      "\n",
      "         0.0       0.74      0.82      0.78        38\n",
      "         1.0       0.72      0.78      0.75        37\n",
      "         2.0       0.81      0.70      0.75        37\n",
      "         3.0       0.79      0.68      0.73        38\n",
      "         4.0       0.80      0.86      0.83        37\n",
      "\n",
      "    accuracy                           0.77       187\n",
      "   macro avg       0.77      0.77      0.77       187\n",
      "weighted avg       0.77      0.77      0.77       187\n",
      "\n",
      "Evaluate Decision Tree : {'accuracy': 0.77, 'recall': 0.77, 'F1 score': 0.769, 'Precision score': 0.773}\n"
     ]
    }
   ],
   "source": [
    "# Decision Tree MODELLING\n",
    "print(\"Decision Tree Model:\")\n",
    "dt_pred = predictModel(dt, X_test)\n",
    "metrics_dt = evaluateModel(y_test, dt_pred)\n",
    "accuracy_dt = metrics_dt['accuracy']\n",
    "print(\"Accuracy Score Decision Tree:\", accuracy_dt)\n",
    "\n",
    "reportModel(dt_pred, y_test)\n",
    "print(f\"Evaluate Decision Tree : {metrics_dt}\")"
   ]
  },
  {
   "cell_type": "code",
   "execution_count": 102,
   "metadata": {},
   "outputs": [
    {
     "name": "stdout",
     "output_type": "stream",
     "text": [
      "Decision Tree Model OVERSAMPLING + NORMALISASI:\n",
      "Accuracy Score Decision Tree: 0.77\n",
      "Classification Report:\n",
      "              precision    recall  f1-score   support\n",
      "\n",
      "         0.0       0.74      0.82      0.78        38\n",
      "         1.0       0.72      0.78      0.75        37\n",
      "         2.0       0.81      0.70      0.75        37\n",
      "         3.0       0.79      0.68      0.73        38\n",
      "         4.0       0.80      0.86      0.83        37\n",
      "\n",
      "    accuracy                           0.77       187\n",
      "   macro avg       0.77      0.77      0.77       187\n",
      "weighted avg       0.77      0.77      0.77       187\n",
      "\n",
      "Evaluate Decision Tree : {'accuracy': 0.77, 'recall': 0.77, 'F1 score': 0.769, 'Precision score': 0.773}\n"
     ]
    }
   ],
   "source": [
    "# Decision Tree MODELLING (OVERSAMPLING + NORMALISASI)\n",
    "print(\"Decision Tree Model OVERSAMPLING + NORMALISASI:\")\n",
    "dt_pred_N = predictModel(dt_N, X_test_norm)\n",
    "metrics_dt_N = evaluateModel(y_test_norm, dt_pred_N)\n",
    "accuracy_dt_N = metrics_dt_N['accuracy']\n",
    "print(\"Accuracy Score Decision Tree:\", accuracy_dt_N)\n",
    "\n",
    "reportModel(dt_pred_N, y_test_norm)\n",
    "print(f\"Evaluate Decision Tree : {metrics_dt_N}\")"
   ]
  },
  {
   "cell_type": "code",
   "execution_count": 103,
   "metadata": {},
   "outputs": [
    {
     "data": {
      "image/png": "[encoded data removed]",
      "text/plain": [
       "<Figure size 800x600 with 2 Axes>"
      ]
     },
     "metadata": {},
     "output_type": "display_data"
    }
   ],
   "source": [
    "# nilai confusion matrix untuk model Decision Tree\n",
    "cm = confusion_matrix(y_test, dt_pred_N)\n",
    "\n",
    "plt.figure(figsize=(8, 6))\n",
    "sns.heatmap(cm, annot=True, fmt=\"d\", cmap=\"Blues\")\n",
    "plt.title('Confusion Matrix Decision Tree')\n",
    "plt.xlabel('True')\n",
    "plt.ylabel('Predict')\n",
    "plt.show()"
   ]
  },
  {
   "cell_type": "markdown",
   "metadata": {},
   "source": [
    "## 8) Mengevaluasi Hasil Pemodelan <a class=\"anchor\" id=\"h8\"></a>\n"
   ]
  },
  {
   "cell_type": "code",
   "execution_count": 105,
   "metadata": {},
   "outputs": [
    {
     "data": {
      "image/png": "[encoded data removed]",
      "text/plain": [
       "<Figure size 1000x600 with 1 Axes>"
      ]
     },
     "metadata": {},
     "output_type": "display_data"
    }
   ],
   "source": [
    "# membuat graph hasil pemodelan\n",
    "model_name = ['KNN', 'Random Forest', 'Decision Tree']\n",
    "data_ori = [accuracy_knn_ori*100, accuracy_rf_ori*100, accuracy_dt_ori*100 ]\n",
    "data_oversampling = [accuracy_knn*100, accuracy_rf*100, accuracy_dt*100 ]\n",
    "data_oversampling_norm = [accuracy_knn_N*100, accuracy_rf_N*100, accuracy_dt_N*100]\n",
    "\n",
    "X_axis = np.arange(len(model_name))\n",
    "bar_width = 0.2\n",
    "\n",
    "# Membuat grafik\n",
    "plt.figure(figsize=(10, 6))\n",
    "bars_1 = plt.bar(X_axis - bar_width, data_ori, bar_width, label='Original')\n",
    "bars_2 = plt.bar(X_axis, data_oversampling, bar_width, label='Oversampling')\n",
    "bars_3 = plt.bar(X_axis + bar_width, data_oversampling_norm, bar_width, label='Oversampling+Normalization')\n",
    "\n",
    "# Menambahkan teks di atas setiap bar\n",
    "for i in range(len(X_axis)):\n",
    "    plt.text(i - bar_width, data_ori[i] + 1, str(round(data_ori[i], 1)), ha='center')\n",
    "    plt.text(i, data_oversampling[i] + 1, str(round(data_oversampling[i], 1)), ha='center')\n",
    "    plt.text(i + bar_width, data_oversampling_norm[i] + 1, str(round(data_oversampling_norm[i], 1)), ha='center')\n",
    "\n",
    "# Menambahkan label dan judul\n",
    "plt.xticks(X_axis, model_name, rotation=45, ha='right')\n",
    "plt.xlabel('Model')\n",
    "plt.ylabel('Accuracy (%)')\n",
    "plt.title('Perbandingan Performa sebelum dan sesudah optimasi')\n",
    "plt.ylim(None, 119)\n",
    "plt.legend()\n",
    "\n",
    "# Menampilkan grafik\n",
    "plt.tight_layout()\n",
    "plt.show()"
   ]
  },
  {
   "cell_type": "markdown",
   "metadata": {},
   "source": [
    "## 9) Deployment <a class=\"anchor\" id=\"h9\"></a>\n"
   ]
  },
  {
   "cell_type": "code",
   "execution_count": 106,
   "metadata": {},
   "outputs": [],
   "source": [
    "import pickle"
   ]
  },
  {
   "cell_type": "code",
   "execution_count": 107,
   "metadata": {},
   "outputs": [],
   "source": [
    "data_final = {'data': dfClean}\n",
    "with open('source/data_final.pkl', 'wb') as info:\n",
    "    pickle.dump(data_final, info)"
   ]
  },
  {
   "cell_type": "code",
   "execution_count": 108,
   "metadata": {},
   "outputs": [],
   "source": [
    "accuracy = {'accuracy_knn': accuracy_knn_N, 'accuracy_rf': accuracy_rf_N, 'accuracy_dt': accuracy_dt_N}\n",
    "with open('source/accuracy_model.pkl', 'wb') as info:\n",
    "    pickle.dump(accuracy, info)"
   ]
  },
  {
   "cell_type": "code",
   "execution_count": 109,
   "metadata": {},
   "outputs": [],
   "source": [
    "model_prediction = {'knn': knn_N, 'rf': rf_N, 'dt': dt_N}\n",
    "with open('source/model.pkl', 'wb') as model:\n",
    "    pickle.dump(model_prediction, model)"
   ]
  },
  {
   "cell_type": "code",
   "execution_count": 110,
   "metadata": {},
   "outputs": [],
   "source": [
    "with open('source/scaler.pkl', 'wb') as scaler_file:\n",
    "    pickle.dump(scaler, scaler_file)"
   ]
  },
  {
   "cell_type": "markdown",
   "metadata": {},
   "source": [
    "## 10) Kesimpulan <a class=\"anchor\" id=\"h10\"></a>\n"
   ]
  },
  {
   "cell_type": "markdown",
   "metadata": {},
   "source": [
    "> Dataset : Heart Disease (https://archive.ics.uci.edu/dataset/45/heart+disease)\n",
    "\n",
    "> Model yang Dibandingkan : KNN, Random Forest, Decision Tree\n",
    "\n",
    "> Fitur Data yang diperbandingan :\n",
    ">\n",
    "> - Data original\n",
    "> - Oversampling dengan SMOTE\n",
    "> - Oversampling dengan SMOTE + Normalisasi Fitur dengan MinMax Scaler\n",
    "\n",
    "> Hasil :\n",
    ">\n",
    "> - Model KNN\n",
    ">   - Accuracy Data Original : 59.3 %\n",
    ">   - Accuracy Data Oversampling : 75.4 %\n",
    ">   - Accuracy Data Oversampling + Normalization : 86.1 %\n",
    "> - Model Random Forest\n",
    ">   - Accuracy Data Original : 67.8 %\n",
    ">   - Accuracy Data Oversampling : 92.0 %\n",
    ">   - Accuracy Data Oversampling + Normalization : 92.0 %\n",
    "> - Model Decision Tree\n",
    ">   - Accuracy Data Original : 59.3 %\n",
    ">   - Accuracy Data Oversampling : 77.0 %\n",
    ">   - Accuracy Data Oversampling + Normalization : 77.0 %\n",
    "\n",
    "> Kesimpulan :\n",
    ">\n",
    "> Penerapan oversampling dan normalisasi fitur dapat meningkatkan performa pada model secara signifikan. Random Forest secara konsisten menunjukkan performa terbaik di antara ketiga model pada semua dataset.\n"
   ]
  }
 ],
 "metadata": {
  "kernelspec": {
   "display_name": "Python 3 (ipykernel)",
   "language": "python",
   "name": "python3"
  },
  "language_info": {
   "codemirror_mode": {
    "name": "ipython",
    "version": 3
   },
   "file_extension": ".py",
   "mimetype": "text/x-python",
   "name": "python",
   "nbconvert_exporter": "python",
   "pygments_lexer": "ipython3",
   "version": "3.12.3"
  }
 },
 "nbformat": 4,
 "nbformat_minor": 4
}
